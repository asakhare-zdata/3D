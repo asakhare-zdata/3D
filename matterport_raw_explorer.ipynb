{
 "cells": [
  {
   "cell_type": "code",
   "execution_count": null,
   "id": "initial_id",
   "metadata": {
    "collapsed": true
   },
   "outputs": [],
   "source": [
    "import torch\n",
    "import numpy as np\n",
    "import open3d as o3\n",
    "\n",
    "import os\n",
    "import random\n",
    "\n",
    "directory = '/home/asakhare/data/datasets/matterport/matterport_3d/train'\n",
    "\n",
    "# Get a list of all files in the directory\n",
    "files = os.listdir(directory)\n",
    "\n",
    "# Select a random file from the list\n",
    "random_file = random.choice(files)\n",
    "\n",
    "# Construct the full path to the randomly selected file\n",
    "random_file_path = os.path.join(directory, random_file)\n",
    "\n",
    "\n",
    "points = torch.load(random_file_path)\n"
   ]
  },
  {
   "cell_type": "code",
   "execution_count": null,
   "outputs": [],
   "source": [
    "print(np.unique(points[2]))"
   ],
   "metadata": {
    "collapsed": false
   },
   "id": "cf9d0d8bfeea974d"
  },
  {
   "cell_type": "code",
   "execution_count": null,
   "outputs": [],
   "source": [
    "# 0 - wall - blue \n",
    "# 2 - floor - lime\n",
    "# 20 - ceiling - red\n",
    "# All else - clutter - black"
   ],
   "metadata": {
    "collapsed": false
   },
   "id": "196bb0db31886280"
  },
  {
   "cell_type": "code",
   "execution_count": null,
   "outputs": [],
   "source": [
    "COLOR_MAP = {\n",
    "    0  : (0, 0, 255),    # wall - blue\n",
    "    1  : (0, 255, 0),  # floor - lime\n",
    "    20  : (255, 0, 0),   # ceiling - red\n",
    "}\n",
    "\n",
    "for i in range(2, 256):\n",
    "    if i != 20:\n",
    "        COLOR_MAP[i] = (0, 0, 0)\n",
    "\n",
    "v_map_colors = np.vectorize(lambda x : COLOR_MAP[x])\n",
    "\n",
    "# display true partitioned point cloud\n",
    "pcd = o3.geometry.PointCloud()\n",
    "pcd.points = o3.utility.Vector3dVector(points[0])\n",
    "# pcd.colors = o3.utility.Vector3dVector(points[1])\n",
    "pcd.colors = o3.utility.Vector3dVector(np.vstack(v_map_colors(points[2])).T/255)\n",
    "\n",
    "\n",
    "# draw(pcd)\n",
    "o3.visualization.draw_plotly([pcd])"
   ],
   "metadata": {
    "collapsed": false
   },
   "id": "f45a062646d25067"
  },
  {
   "cell_type": "code",
   "execution_count": null,
   "outputs": [],
   "source": [
    "pcd.colors = o3.utility.Vector3dVector(points[1])\n",
    "o3.visualization.draw_plotly([pcd])"
   ],
   "metadata": {
    "collapsed": false
   },
   "id": "f9b0abc0e703bc91"
  },
  {
   "cell_type": "code",
   "execution_count": null,
   "outputs": [],
   "source": [],
   "metadata": {
    "collapsed": false
   },
   "id": "b2371b232384ff21"
  },
  {
   "cell_type": "code",
   "execution_count": null,
   "outputs": [],
   "source": [],
   "metadata": {
    "collapsed": false
   },
   "id": "36f911e8fd052047"
  },
  {
   "cell_type": "code",
   "execution_count": null,
   "outputs": [],
   "source": [],
   "metadata": {
    "collapsed": false
   },
   "id": "2b163d7df1e28938"
  },
  {
   "cell_type": "code",
   "execution_count": null,
   "outputs": [],
   "source": [],
   "metadata": {
    "collapsed": false
   },
   "id": "fd43997733332e00"
  }
 ],
 "metadata": {
  "kernelspec": {
   "display_name": "Python 3",
   "language": "python",
   "name": "python3"
  },
  "language_info": {
   "codemirror_mode": {
    "name": "ipython",
    "version": 2
   },
   "file_extension": ".py",
   "mimetype": "text/x-python",
   "name": "python",
   "nbconvert_exporter": "python",
   "pygments_lexer": "ipython2",
   "version": "2.7.6"
  }
 },
 "nbformat": 4,
 "nbformat_minor": 5
}
